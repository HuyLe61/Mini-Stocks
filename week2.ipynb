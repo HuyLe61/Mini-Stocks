{
 "cells": [
  {
   "cell_type": "markdown",
   "id": "180c6c0e",
   "metadata": {},
   "source": [
    "# Introduction to our Codebase\n",
    "\n",
    "The aim of this notebook is to provide a gentle async-friendly introduction to our codebase and the \"correct\" way of interacting with the tools available to you.\n",
    "\n",
    "Unfortunately, the style and method of implementation actually matter here, so you will likely need to read a bit."
   ]
  },
  {
   "cell_type": "code",
   "execution_count": 10,
   "id": "5ba95b8b",
   "metadata": {},
   "outputs": [],
   "source": [
    "# Ignore these\n",
    "from typing import List"
   ]
  },
  {
   "cell_type": "markdown",
   "id": "38877e80",
   "metadata": {},
   "source": [
    "## `Price` and `Quantity`"
   ]
  },
  {
   "cell_type": "code",
   "execution_count": 2,
   "id": "43c5d65c",
   "metadata": {},
   "outputs": [],
   "source": [
    "# We will start with just these types\n",
    "from core.types import Price, Quantity"
   ]
  },
  {
   "cell_type": "code",
   "execution_count": 3,
   "id": "5d9f6b3b",
   "metadata": {},
   "outputs": [
    {
     "name": "stdout",
     "output_type": "stream",
     "text": [
      "The price is 1.23\n",
      "The quantity is 456\n"
     ]
    }
   ],
   "source": [
    "# You can make instances like this\n",
    "some_price = Price(1.23)\n",
    "some_quantity = Quantity(456)\n",
    "\n",
    "print(f\"The price is {some_price}\")\n",
    "print(f\"The quantity is {some_quantity}\")"
   ]
  },
  {
   "cell_type": "markdown",
   "id": "0781916e",
   "metadata": {},
   "source": [
    "It's important to check that we can (and can't) do important operations.\n",
    "\n",
    "Verify that you cannot add a `Price` and `Quantity` but you can multiply them.\n",
    "\n",
    "What is the type after multiplication? Why does this make sense?"
   ]
  },
  {
   "cell_type": "code",
   "execution_count": null,
   "id": "ae7b84cc",
   "metadata": {},
   "outputs": [],
   "source": [
    "# Try to add a Price and Quantity"
   ]
  },
  {
   "cell_type": "code",
   "execution_count": null,
   "id": "7122e7da",
   "metadata": {},
   "outputs": [],
   "source": [
    "# Try to multiply a Price and Quantity"
   ]
  },
  {
   "cell_type": "markdown",
   "id": "3b9cb65a",
   "metadata": {},
   "source": [
    "What are the limits of `Price` and `Quantity`? What sorts of values work for either?\n",
    "\n",
    "Consider:\n",
    "- `int` vs `float`\n",
    "- negative, zero, and positive"
   ]
  },
  {
   "cell_type": "code",
   "execution_count": null,
   "id": "69aebed2",
   "metadata": {},
   "outputs": [],
   "source": [
    "# Try various things here"
   ]
  },
  {
   "cell_type": "markdown",
   "id": "5ac9880d",
   "metadata": {},
   "source": [
    "Sometimes, these classes can get in the way, especially if you are doing alot of math.\n",
    "\n",
    "In this case, you can (and are encourage to) break out with `.value`"
   ]
  },
  {
   "cell_type": "code",
   "execution_count": 9,
   "id": "a10e5914",
   "metadata": {},
   "outputs": [
    {
     "name": "stdout",
     "output_type": "stream",
     "text": [
      "Failed to compute directly\n",
      "Successfully computed with .value: -454.4871\n"
     ]
    }
   ],
   "source": [
    "some_price = Price(1.23)\n",
    "some_quantity = Quantity(456)\n",
    "\n",
    "# Suppose a QR told us price * price - quantity is useful and we need to compute it\n",
    "try:\n",
    "    mystery_value = some_price * some_price - some_quantity\n",
    "    print(f\"Successfully computed directly: {mystery_value}\")\n",
    "except:\n",
    "    print(\"Failed to compute directly\")\n",
    "\n",
    "try:\n",
    "    mystery_value = some_price.value * some_price.value - some_quantity.value\n",
    "    print(f\"Successfully computed with .value: {mystery_value}\")\n",
    "except:\n",
    "    print(\"Failed to compute with .value\")"
   ]
  },
  {
   "cell_type": "markdown",
   "id": "b042c5c3",
   "metadata": {},
   "source": [
    "Use `.value` to complete this function"
   ]
  },
  {
   "cell_type": "code",
   "execution_count": null,
   "id": "7bb0671d",
   "metadata": {},
   "outputs": [
    {
     "name": "stdout",
     "output_type": "stream",
     "text": [
      "Your function output Price(21.00)\n",
      "The correct output is Price(21.00)\n"
     ]
    }
   ],
   "source": [
    "def mean_squared_error(true_prices: List[Price], pred_prices: List[Price]) -> Price:\n",
    "    \"\"\"\n",
    "    Given lists of Prices true_prices and pred_prices (assume same length),\n",
    "    compute the mean squared error of the predictions.\n",
    "    \"\"\"\n",
    "\n",
    "    # Your code here\n",
    "    pass\n",
    "\n",
    "\n",
    "# Sample code to test\n",
    "sample_true_prices = [Price(1), Price(2), Price(3)]\n",
    "sample_pred_prices = [Price(5), Price(3), Price(1)]\n",
    "\n",
    "correct_output = Price(21)\n",
    "\n",
    "output = mean_squared_error(sample_true_prices, sample_pred_prices)\n",
    "\n",
    "print(f\"Your function output {repr(output)}\")\n",
    "print(f\"The correct output is {repr(correct_output)}\")"
   ]
  },
  {
   "cell_type": "markdown",
   "id": "e43c9af9",
   "metadata": {},
   "source": [
    "Not all math requires `.value` though. Complete this function **without** `.value`"
   ]
  },
  {
   "cell_type": "code",
   "execution_count": null,
   "id": "db5504c7",
   "metadata": {},
   "outputs": [],
   "source": [
    "def average_price(prices: List[Price]) -> Price:\n",
    "    \"\"\"Returns the average (mean) price\"\"\"\n",
    "\n",
    "    # Your code here\n",
    "    pass\n",
    "\n",
    "# Write your own testing code if you want to double check the function works\n",
    "# You will rely on this function later"
   ]
  },
  {
   "cell_type": "markdown",
   "id": "42e9d5d8",
   "metadata": {},
   "source": [
    "## `OrderRequest` and friends\n",
    "\n",
    "Now that you have a grasp of what sorts of restrictions the types have, we can start working with one of the most important tools you will need: the `OrderRequest`"
   ]
  },
  {
   "cell_type": "code",
   "execution_count": 16,
   "id": "173f687a",
   "metadata": {},
   "outputs": [],
   "source": [
    "# We need to import a few more things to get Order to work\n",
    "from core.types import AgentId, OrderType, OrderRequest"
   ]
  },
  {
   "cell_type": "markdown",
   "id": "5e7a30b0",
   "metadata": {},
   "source": [
    "Notice that this class is called an order *request* not an order.\n",
    "\n",
    "This is because your request may be denied if the broker finds you aren't allowed to place the order (not enough money, position limits, etc.)\n",
    "\n",
    "However, our broker is very nice and will instantly convert any *valid* `OrderRequest` you submit into a live `Order` on the exchange for you.\n",
    "\n",
    "Here's a few different ways to make valid `OrderRequest`:"
   ]
  },
  {
   "cell_type": "code",
   "execution_count": 17,
   "id": "c45394f8",
   "metadata": {},
   "outputs": [],
   "source": [
    "# Assume Agent 1 has a very large amount of money and holds a very large number of shares\n",
    "\n",
    "my_first_order_request = OrderRequest(\n",
    "    AgentId(1),\n",
    "    OrderType.BUY,\n",
    "    Price(1.23),\n",
    "    Quantity(456)\n",
    ")\n",
    "\n",
    "another_request = OrderRequest(\n",
    "    agent_id = AgentId(1),\n",
    "    order_type = OrderType.SELL,\n",
    "    price = my_first_order_request.price,\n",
    "    quantity = Quantity(2)\n",
    ")"
   ]
  },
  {
   "cell_type": "markdown",
   "id": "e9cf8bac",
   "metadata": {},
   "source": [
    "Complete the function that creates `OrderRequests` based on the bad_reversion_bot rules.\n",
    "\n",
    "Hint: use `average_price` from earlier."
   ]
  },
  {
   "cell_type": "code",
   "execution_count": null,
   "id": "2fe7dc89",
   "metadata": {},
   "outputs": [],
   "source": [
    "# Assume bad_reversion_bot has enough money/shares to buy/sell MAX_ORDER_SIZE\n",
    "\n",
    "def bad_reversion_bot(price_history: List[Price], current_price: Price) -> OrderRequest | None:\n",
    "    \"\"\"\n",
    "    If the current price is 2% above or below the average (mean)\n",
    "    price in the history (assume nonempty), request an order that\n",
    "    bets the price will move towards the average.\n",
    "\n",
    "    Return None otherwise\n",
    "    \"\"\"\n",
    "    \n",
    "    MAX_ORDER_SIZE = Quantity(50)\n",
    "\n",
    "    # Your code here\n",
    "    pass\n",
    "\n",
    "# It's 2am I'm not writing test code for you"
   ]
  },
  {
   "cell_type": "markdown",
   "id": "0973fa66",
   "metadata": {},
   "source": [
    "## Finally, the `TradingAgent`!!!\n",
    "\n",
    "Go to `agents/base_agent.py` and read through the class.\n",
    "\n",
    "Ignore imports for now and focus on the general ideas. In particular:\n",
    "- What functions are you *required* to define?\n",
    "- What do those functions take as inputs?\n",
    "- What are you expected to output?\n",
    "- Does this make sense?"
   ]
  },
  {
   "cell_type": "code",
   "execution_count": 23,
   "id": "153f1a3b",
   "metadata": {},
   "outputs": [],
   "source": [
    "# Your code here"
   ]
  }
 ],
 "metadata": {
  "kernelspec": {
   "display_name": "mini-stocks",
   "language": "python",
   "name": "python3"
  },
  "language_info": {
   "codemirror_mode": {
    "name": "ipython",
    "version": 3
   },
   "file_extension": ".py",
   "mimetype": "text/x-python",
   "name": "python",
   "nbconvert_exporter": "python",
   "pygments_lexer": "ipython3",
   "version": "3.13.5"
  }
 },
 "nbformat": 4,
 "nbformat_minor": 5
}
